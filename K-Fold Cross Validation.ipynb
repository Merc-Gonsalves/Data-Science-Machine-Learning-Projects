{
 "cells": [
  {
   "cell_type": "code",
   "execution_count": 31,
   "metadata": {},
   "outputs": [],
   "source": [
    "import numpy as np\n",
    "import pandas as pd\n",
    "import matplotlib.pyplot as plt\n",
    "from sklearn.svm import SVC\n",
    "from sklearn.linear_model import LogisticRegression\n",
    "from sklearn.model_selection import train_test_split, KFold, StratifiedKFold, cross_val_score\n",
    "from sklearn.datasets import load_iris, load_digits\n",
    "from sklearn.ensemble import RandomForestClassifier"
   ]
  },
  {
   "cell_type": "code",
   "execution_count": 41,
   "metadata": {},
   "outputs": [
    {
     "data": {
      "text/plain": [
       "['DESCR',\n",
       " 'data',\n",
       " 'data_module',\n",
       " 'feature_names',\n",
       " 'filename',\n",
       " 'frame',\n",
       " 'target',\n",
       " 'target_names']"
      ]
     },
     "execution_count": 41,
     "metadata": {},
     "output_type": "execute_result"
    }
   ],
   "source": [
    "digits = load_iris()\n",
    "dir(digits)"
   ]
  },
  {
   "cell_type": "code",
   "execution_count": 44,
   "metadata": {},
   "outputs": [
    {
     "name": "stdout",
     "output_type": "stream",
     "text": [
      "[1.         0.86666667 1.         0.93333333 0.93333333 0.93333333\n",
      " 1.        ]\n",
      "[1.         1.         1.         1.         0.93333333 0.93333333\n",
      " 1.        ]\n",
      "[1.         1.         1.         0.93333333 0.93333333 0.93333333\n",
      " 1.        ]\n"
     ]
    }
   ],
   "source": [
    "X_train, X_test, y_train, y_test = train_test_split(digits.data, digits.target, test_size= 0.3)\n",
    "rf = RandomForestClassifier(n_estimators= 50, criterion='entropy')\n",
    "svm = SVC()\n",
    "lr = LogisticRegression(max_iter= 1000)\n",
    "score(rf,X_train, X_test, y_train, y_test)\n",
    "score(svm,X_train, X_test, y_train, y_test)\n",
    "score(lr,X_train, X_test, y_train, y_test)"
   ]
  },
  {
   "cell_type": "code",
   "execution_count": 43,
   "metadata": {},
   "outputs": [],
   "source": [
    "def score(model, X_train, X_test, y_train, y_test):\n",
    "    model.fit(X_train, y_train)\n",
    "    print(cross_val_score(model,X_train, y_train, cv = 7))"
   ]
  },
  {
   "cell_type": "code",
   "execution_count": 47,
   "metadata": {},
   "outputs": [
    {
     "name": "stdout",
     "output_type": "stream",
     "text": [
      "0.9669140383426098\n",
      "0.9730983302411874\n",
      "0.9669140383426098\n"
     ]
    }
   ],
   "source": [
    "print(cross_val_score(rf,digits.data, digits.target, cv = 7).mean())\n",
    "print(cross_val_score(svm,digits.data, digits.target, cv = 7).mean())\n",
    "print(cross_val_score(lr,digits.data, digits.target, cv = 7).mean())"
   ]
  },
  {
   "cell_type": "code",
   "execution_count": null,
   "metadata": {},
   "outputs": [],
   "source": []
  }
 ],
 "metadata": {
  "kernelspec": {
   "display_name": "Python 3 (ipykernel)",
   "language": "python",
   "name": "python3"
  }
 },
 "nbformat": 4,
 "nbformat_minor": 2
}
